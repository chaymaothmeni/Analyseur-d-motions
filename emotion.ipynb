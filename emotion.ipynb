{
  "nbformat": 4,
  "nbformat_minor": 0,
  "metadata": {
    "colab": {
      "provenance": [],
      "gpuType": "T4"
    },
    "kernelspec": {
      "name": "python3",
      "display_name": "Python 3"
    },
    "language_info": {
      "name": "python"
    },
    "accelerator": "GPU"
  },
  "cells": [
    {
      "cell_type": "code",
      "execution_count": 4,
      "metadata": {
        "colab": {
          "base_uri": "https://localhost:8080/"
        },
        "id": "gGHA6PjpTt6x",
        "outputId": "65b0690f-d2a4-42e7-c040-7aa1447dc259"
      },
      "outputs": [
        {
          "output_type": "stream",
          "name": "stdout",
          "text": [
            "Requirement already satisfied: deepface in /usr/local/lib/python3.11/dist-packages (0.0.93)\n",
            "Requirement already satisfied: requests>=2.27.1 in /usr/local/lib/python3.11/dist-packages (from deepface) (2.32.3)\n",
            "Requirement already satisfied: numpy>=1.14.0 in /usr/local/lib/python3.11/dist-packages (from deepface) (2.0.2)\n",
            "Requirement already satisfied: pandas>=0.23.4 in /usr/local/lib/python3.11/dist-packages (from deepface) (2.2.2)\n",
            "Requirement already satisfied: gdown>=3.10.1 in /usr/local/lib/python3.11/dist-packages (from deepface) (5.2.0)\n",
            "Requirement already satisfied: tqdm>=4.30.0 in /usr/local/lib/python3.11/dist-packages (from deepface) (4.67.1)\n",
            "Requirement already satisfied: Pillow>=5.2.0 in /usr/local/lib/python3.11/dist-packages (from deepface) (11.1.0)\n",
            "Requirement already satisfied: opencv-python>=4.5.5.64 in /usr/local/lib/python3.11/dist-packages (from deepface) (4.11.0.86)\n",
            "Requirement already satisfied: tensorflow>=1.9.0 in /usr/local/lib/python3.11/dist-packages (from deepface) (2.18.0)\n",
            "Requirement already satisfied: keras>=2.2.0 in /usr/local/lib/python3.11/dist-packages (from deepface) (3.8.0)\n",
            "Requirement already satisfied: Flask>=1.1.2 in /usr/local/lib/python3.11/dist-packages (from deepface) (3.1.0)\n",
            "Requirement already satisfied: flask-cors>=4.0.1 in /usr/local/lib/python3.11/dist-packages (from deepface) (5.0.1)\n",
            "Requirement already satisfied: mtcnn>=0.1.0 in /usr/local/lib/python3.11/dist-packages (from deepface) (1.0.0)\n",
            "Requirement already satisfied: retina-face>=0.0.1 in /usr/local/lib/python3.11/dist-packages (from deepface) (0.0.17)\n",
            "Requirement already satisfied: fire>=0.4.0 in /usr/local/lib/python3.11/dist-packages (from deepface) (0.7.0)\n",
            "Requirement already satisfied: gunicorn>=20.1.0 in /usr/local/lib/python3.11/dist-packages (from deepface) (23.0.0)\n",
            "Requirement already satisfied: termcolor in /usr/local/lib/python3.11/dist-packages (from fire>=0.4.0->deepface) (2.5.0)\n",
            "Requirement already satisfied: Werkzeug>=3.1 in /usr/local/lib/python3.11/dist-packages (from Flask>=1.1.2->deepface) (3.1.3)\n",
            "Requirement already satisfied: Jinja2>=3.1.2 in /usr/local/lib/python3.11/dist-packages (from Flask>=1.1.2->deepface) (3.1.6)\n",
            "Requirement already satisfied: itsdangerous>=2.2 in /usr/local/lib/python3.11/dist-packages (from Flask>=1.1.2->deepface) (2.2.0)\n",
            "Requirement already satisfied: click>=8.1.3 in /usr/local/lib/python3.11/dist-packages (from Flask>=1.1.2->deepface) (8.1.8)\n",
            "Requirement already satisfied: blinker>=1.9 in /usr/local/lib/python3.11/dist-packages (from Flask>=1.1.2->deepface) (1.9.0)\n",
            "Requirement already satisfied: beautifulsoup4 in /usr/local/lib/python3.11/dist-packages (from gdown>=3.10.1->deepface) (4.13.3)\n",
            "Requirement already satisfied: filelock in /usr/local/lib/python3.11/dist-packages (from gdown>=3.10.1->deepface) (3.18.0)\n",
            "Requirement already satisfied: packaging in /usr/local/lib/python3.11/dist-packages (from gunicorn>=20.1.0->deepface) (24.2)\n",
            "Requirement already satisfied: absl-py in /usr/local/lib/python3.11/dist-packages (from keras>=2.2.0->deepface) (1.4.0)\n",
            "Requirement already satisfied: rich in /usr/local/lib/python3.11/dist-packages (from keras>=2.2.0->deepface) (13.9.4)\n",
            "Requirement already satisfied: namex in /usr/local/lib/python3.11/dist-packages (from keras>=2.2.0->deepface) (0.0.8)\n",
            "Requirement already satisfied: h5py in /usr/local/lib/python3.11/dist-packages (from keras>=2.2.0->deepface) (3.13.0)\n",
            "Requirement already satisfied: optree in /usr/local/lib/python3.11/dist-packages (from keras>=2.2.0->deepface) (0.14.1)\n",
            "Requirement already satisfied: ml-dtypes in /usr/local/lib/python3.11/dist-packages (from keras>=2.2.0->deepface) (0.4.1)\n",
            "Requirement already satisfied: joblib>=1.4.2 in /usr/local/lib/python3.11/dist-packages (from mtcnn>=0.1.0->deepface) (1.4.2)\n",
            "Requirement already satisfied: lz4>=4.3.3 in /usr/local/lib/python3.11/dist-packages (from mtcnn>=0.1.0->deepface) (4.4.4)\n",
            "Requirement already satisfied: python-dateutil>=2.8.2 in /usr/local/lib/python3.11/dist-packages (from pandas>=0.23.4->deepface) (2.8.2)\n",
            "Requirement already satisfied: pytz>=2020.1 in /usr/local/lib/python3.11/dist-packages (from pandas>=0.23.4->deepface) (2025.2)\n",
            "Requirement already satisfied: tzdata>=2022.7 in /usr/local/lib/python3.11/dist-packages (from pandas>=0.23.4->deepface) (2025.2)\n",
            "Requirement already satisfied: charset-normalizer<4,>=2 in /usr/local/lib/python3.11/dist-packages (from requests>=2.27.1->deepface) (3.4.1)\n",
            "Requirement already satisfied: idna<4,>=2.5 in /usr/local/lib/python3.11/dist-packages (from requests>=2.27.1->deepface) (3.10)\n",
            "Requirement already satisfied: urllib3<3,>=1.21.1 in /usr/local/lib/python3.11/dist-packages (from requests>=2.27.1->deepface) (2.3.0)\n",
            "Requirement already satisfied: certifi>=2017.4.17 in /usr/local/lib/python3.11/dist-packages (from requests>=2.27.1->deepface) (2025.1.31)\n",
            "Requirement already satisfied: astunparse>=1.6.0 in /usr/local/lib/python3.11/dist-packages (from tensorflow>=1.9.0->deepface) (1.6.3)\n",
            "Requirement already satisfied: flatbuffers>=24.3.25 in /usr/local/lib/python3.11/dist-packages (from tensorflow>=1.9.0->deepface) (25.2.10)\n",
            "Requirement already satisfied: gast!=0.5.0,!=0.5.1,!=0.5.2,>=0.2.1 in /usr/local/lib/python3.11/dist-packages (from tensorflow>=1.9.0->deepface) (0.6.0)\n",
            "Requirement already satisfied: google-pasta>=0.1.1 in /usr/local/lib/python3.11/dist-packages (from tensorflow>=1.9.0->deepface) (0.2.0)\n",
            "Requirement already satisfied: libclang>=13.0.0 in /usr/local/lib/python3.11/dist-packages (from tensorflow>=1.9.0->deepface) (18.1.1)\n",
            "Requirement already satisfied: opt-einsum>=2.3.2 in /usr/local/lib/python3.11/dist-packages (from tensorflow>=1.9.0->deepface) (3.4.0)\n",
            "Requirement already satisfied: protobuf!=4.21.0,!=4.21.1,!=4.21.2,!=4.21.3,!=4.21.4,!=4.21.5,<6.0.0dev,>=3.20.3 in /usr/local/lib/python3.11/dist-packages (from tensorflow>=1.9.0->deepface) (5.29.4)\n",
            "Requirement already satisfied: setuptools in /usr/local/lib/python3.11/dist-packages (from tensorflow>=1.9.0->deepface) (75.2.0)\n",
            "Requirement already satisfied: six>=1.12.0 in /usr/local/lib/python3.11/dist-packages (from tensorflow>=1.9.0->deepface) (1.17.0)\n",
            "Requirement already satisfied: typing-extensions>=3.6.6 in /usr/local/lib/python3.11/dist-packages (from tensorflow>=1.9.0->deepface) (4.13.0)\n",
            "Requirement already satisfied: wrapt>=1.11.0 in /usr/local/lib/python3.11/dist-packages (from tensorflow>=1.9.0->deepface) (1.17.2)\n",
            "Requirement already satisfied: grpcio<2.0,>=1.24.3 in /usr/local/lib/python3.11/dist-packages (from tensorflow>=1.9.0->deepface) (1.71.0)\n",
            "Requirement already satisfied: tensorboard<2.19,>=2.18 in /usr/local/lib/python3.11/dist-packages (from tensorflow>=1.9.0->deepface) (2.18.0)\n",
            "Requirement already satisfied: tensorflow-io-gcs-filesystem>=0.23.1 in /usr/local/lib/python3.11/dist-packages (from tensorflow>=1.9.0->deepface) (0.37.1)\n",
            "Requirement already satisfied: wheel<1.0,>=0.23.0 in /usr/local/lib/python3.11/dist-packages (from astunparse>=1.6.0->tensorflow>=1.9.0->deepface) (0.45.1)\n",
            "Requirement already satisfied: MarkupSafe>=2.0 in /usr/local/lib/python3.11/dist-packages (from Jinja2>=3.1.2->Flask>=1.1.2->deepface) (3.0.2)\n",
            "Requirement already satisfied: markdown>=2.6.8 in /usr/local/lib/python3.11/dist-packages (from tensorboard<2.19,>=2.18->tensorflow>=1.9.0->deepface) (3.7)\n",
            "Requirement already satisfied: tensorboard-data-server<0.8.0,>=0.7.0 in /usr/local/lib/python3.11/dist-packages (from tensorboard<2.19,>=2.18->tensorflow>=1.9.0->deepface) (0.7.2)\n",
            "Requirement already satisfied: soupsieve>1.2 in /usr/local/lib/python3.11/dist-packages (from beautifulsoup4->gdown>=3.10.1->deepface) (2.6)\n",
            "Requirement already satisfied: PySocks!=1.5.7,>=1.5.6 in /usr/local/lib/python3.11/dist-packages (from requests[socks]->gdown>=3.10.1->deepface) (1.7.1)\n",
            "Requirement already satisfied: markdown-it-py>=2.2.0 in /usr/local/lib/python3.11/dist-packages (from rich->keras>=2.2.0->deepface) (3.0.0)\n",
            "Requirement already satisfied: pygments<3.0.0,>=2.13.0 in /usr/local/lib/python3.11/dist-packages (from rich->keras>=2.2.0->deepface) (2.18.0)\n",
            "Requirement already satisfied: mdurl~=0.1 in /usr/local/lib/python3.11/dist-packages (from markdown-it-py>=2.2.0->rich->keras>=2.2.0->deepface) (0.1.2)\n"
          ]
        }
      ],
      "source": [
        "!pip install deepface"
      ]
    },
    {
      "cell_type": "code",
      "source": [
        "from deepface import DeepFace\n",
        "image_url = \"data:image/jpeg;base64,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\"\n",
        "\n",
        "try:\n",
        "    results = DeepFace.analyze(image_url, actions=['emotion'])\n",
        "    if isinstance(results, list):\n",
        "        result = results[0]\n",
        "    else:\n",
        "        result = results\n",
        "    dominant_emotion = result['dominant_emotion']\n",
        "    print(dominant_emotion)\n",
        "except Exception as e:\n",
        "    print(f\"Erreur lors de l'analyse de l'image {image_url}: {e}\")"
      ],
      "metadata": {
        "colab": {
          "base_uri": "https://localhost:8080/"
        },
        "id": "8idRBM2XWXJ6",
        "outputId": "8a7a1487-4c77-4c8b-92b4-b74cccaef153"
      },
      "execution_count": 20,
      "outputs": [
        {
          "output_type": "stream",
          "name": "stdout",
          "text": [
            "disgust\n"
          ]
        }
      ]
    }
  ]
}
